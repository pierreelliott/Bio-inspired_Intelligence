{
 "cells": [
  {
   "cell_type": "markdown",
   "metadata": {},
   "source": [
    "Pierre-Elliott THIBOUD  \n",
    "Julien PERIER-CAMBY  \n",
    "\n",
    "# IBI - TP1\n",
    "## Partie 1"
   ]
  },
  {
   "cell_type": "code",
   "execution_count": 56,
   "metadata": {},
   "outputs": [],
   "source": [
    "import gzip # pour décompresser les données\n",
    "import pickle # pour désérialiser les données\n",
    "import numpy as np # pour pouvoir utiliser des matrices\n",
    "import matplotlib.pyplot as plt # pour l'affichage\n",
    "import torch,torch.utils.data\n",
    "from tqdm import tqdm_notebook as tqdm\n",
    "\n",
    "#np.seterr(all='call')"
   ]
  },
  {
   "cell_type": "code",
   "execution_count": 6,
   "metadata": {},
   "outputs": [],
   "source": [
    "def affichage(image,label):\n",
    "    # on récupère à quel chiffre cela correspond (position du 1 dans label)\n",
    "    label = np.argmax(label)\n",
    "    # on crée une figure\n",
    "    plt.figure()\n",
    "    # affichage du chiffre\n",
    "    # le paramètre interpolation='nearest' force python à afficher chaque valeur de la matrice sans l'interpoler avec ses voisines\n",
    "    # le paramètre cmap définit l'échelle de couleur utilisée (ici noire et blanc)\n",
    "    plt.imshow(image.reshape((28,28)),interpolation='nearest',cmap='binary')\n",
    "    # on met un titre\n",
    "    plt.title('chiffre '+str(label))\n",
    "    # on affichage les figures créées\n",
    "    plt.show()"
   ]
  },
  {
   "cell_type": "code",
   "execution_count": 7,
   "metadata": {},
   "outputs": [],
   "source": [
    "LOGGING = False\n",
    "def printf(*vals):\n",
    "    if LOGGING:\n",
    "        print(*vals)"
   ]
  },
  {
   "cell_type": "markdown",
   "metadata": {},
   "source": [
    "### Chargement des données"
   ]
  },
  {
   "cell_type": "code",
   "execution_count": 8,
   "metadata": {},
   "outputs": [],
   "source": [
    "TRAIN_BATCH_SIZE = 1\n",
    "\n",
    "data = pickle.load(gzip.open('mnist.pkl.gz'),encoding='latin1')\n",
    "\n",
    "train_data = torch.Tensor(data[0][0])\n",
    "# labels de la base d'apprentissage\n",
    "train_data_label = torch.Tensor(data[0][1])\n",
    "# images de la base de test\n",
    "test_data = torch.Tensor(data[1][0])\n",
    "# labels de la base de test\n",
    "test_data_label = torch.Tensor(data[1][1])\n",
    "# on crée la base de données d'apprentissage (pour torch)\n",
    "train_dataset = torch.utils.data.TensorDataset(train_data,train_data_label)\n",
    "# on crée la base de données de test (pour torch)\n",
    "test_dataset = torch.utils.data.TensorDataset(test_data,test_data_label)\n",
    "# on crée le lecteur de la base de données d'apprentissage (pour torch)\n",
    "train_loader = torch.utils.data.DataLoader(train_dataset, batch_size=TRAIN_BATCH_SIZE, shuffle=True)\n",
    "# on crée le lecteur de la base de données de test (pour torch)\n",
    "test_loader = torch.utils.data.DataLoader(test_dataset, batch_size=1, shuffle=False)"
   ]
  },
  {
   "cell_type": "code",
   "execution_count": 9,
   "metadata": {},
   "outputs": [
    {
     "data": {
      "image/png": "[encoded data removed]",
      "text/plain": [
       "<Figure size 432x288 with 1 Axes>"
      ]
     },
     "metadata": {
      "needs_background": "light"
     },
     "output_type": "display_data"
    }
   ],
   "source": [
    "affichage(train_data[0], train_data_label[0])"
   ]
  },
  {
   "cell_type": "code",
   "execution_count": 36,
   "metadata": {},
   "outputs": [],
   "source": [
    "def initWeightsDefault(input_dim, output_dim):\n",
    "    return np.random.normal(loc=0.0,scale=1.0,size=(output_dim,input_dim+1))\n",
    "\n",
    "class Perceptron:\n",
    "    def __init__(self, input_dim, output_dim, learning_rate, initWeights=initWeightsDefault):\n",
    "        self.weights = initWeights(input_dim, output_dim)\n",
    "        self.learning_rate = learning_rate\n",
    "        self.output_dim = output_dim\n",
    "        self.input_dim = input_dim\n",
    "\n",
    "    def forward(self, x):\n",
    "        # Rajoute le biais\n",
    "        x = np.append(x.flatten(),1)\n",
    "        return np.dot(self.weights, x)\n",
    "    \n",
    "    def backward(self, x, y ,t):\n",
    "        error = np.array(t) - y\n",
    "        self.backward_w_error(np.array(x).flatten(), error)\n",
    "\n",
    "    # Séparation du calcul de l'erreur et de la rétro-propagation pour réutiliser le Perceptron dans le MLP\n",
    "    def backward_w_error(self, x, error):\n",
    "        # Rajoute le biais\n",
    "        x = np.append(x, 1)\n",
    "        \n",
    "        delta = error.reshape(self.output_dim,1).dot(x.reshape(1,self.input_dim+1)) * self.learning_rate\n",
    "        \n",
    "        # Mise à jour des poids\n",
    "        self.weights += delta"
   ]
  },
  {
   "cell_type": "code",
   "execution_count": 11,
   "metadata": {},
   "outputs": [],
   "source": [
    "# Pour étudier la modification des poids et des différents paramètres lors du développement\n",
    "def test_training(model):\n",
    "    for (idx,(image,label)) in enumerate(train_loader):\n",
    "        if idx > 0:\n",
    "            break\n",
    "        \n",
    "        print(\"Test training - Forward\")\n",
    "        y = model.forward(image)\n",
    "        print(\"Test training - Backward\")\n",
    "        model.backward(image, y, label)"
   ]
  },
  {
   "cell_type": "code",
   "execution_count": 12,
   "metadata": {
    "scrolled": false
   },
   "outputs": [],
   "source": [
    "def training(model, epochs, show_progress=False):\n",
    "    if show_progress:\n",
    "        for epoch in tqdm(range(epochs)):\n",
    "            for (idx,(image,label)) in enumerate(train_loader):\n",
    "                # on demande les prochaines données de la base\n",
    "                y = model.forward(image)\n",
    "                model.backward(image, y, label)\n",
    "    else:\n",
    "        for epoch in range(epochs):\n",
    "            for (idx,(image,label)) in enumerate(train_loader):\n",
    "                # on demande les prochaines données de la base\n",
    "                y = model.forward(image)\n",
    "                model.backward(image, y, label)"
   ]
  },
  {
   "cell_type": "code",
   "execution_count": 13,
   "metadata": {},
   "outputs": [],
   "source": [
    "def test(model, print_accuracy=False, show_progress=False):\n",
    "    true_positives = 0\n",
    "    if show_progress:\n",
    "        for (idx,(image,label)) in enumerate(tqdm(test_loader)):\n",
    "            if np.argmax(label.numpy()) == np.argmax(model.forward(image)):\n",
    "                true_positives += 1\n",
    "    else:\n",
    "        for (idx,(image,label)) in enumerate(test_loader):\n",
    "            if np.argmax(label.numpy()) == np.argmax(model.forward(image)):\n",
    "                true_positives += 1\n",
    "            \n",
    "    accuracy = true_positives/len(test_loader)\n",
    "    if print_accuracy:\n",
    "        print(\"Accuracy: \", accuracy)\n",
    "    return accuracy"
   ]
  },
  {
   "cell_type": "markdown",
   "metadata": {},
   "source": [
    "### Paramètres"
   ]
  },
  {
   "cell_type": "code",
   "execution_count": 14,
   "metadata": {},
   "outputs": [],
   "source": [
    "input_dim = 784\n",
    "nb_class = 10\n",
    "\n",
    "learning_rate = 0.009"
   ]
  },
  {
   "cell_type": "markdown",
   "metadata": {},
   "source": [
    "### Perceptron - Test simple"
   ]
  },
  {
   "cell_type": "code",
   "execution_count": 89,
   "metadata": {},
   "outputs": [
    {
     "data": {
      "application/vnd.jupyter.widget-view+json": {
       "model_id": "1c9e63f7535f4c74a4ac61bbba22d569",
       "version_major": 2,
       "version_minor": 0
      },
      "text/plain": [
       "HBox(children=(IntProgress(value=0, max=3), HTML(value='')))"
      ]
     },
     "metadata": {},
     "output_type": "display_data"
    },
    {
     "name": "stdout",
     "output_type": "stream",
     "text": [
      "Accuracy:  0.7052857142857143\n"
     ]
    },
    {
     "data": {
      "text/plain": [
       "0.7052857142857143"
      ]
     },
     "execution_count": 89,
     "metadata": {},
     "output_type": "execute_result"
    }
   ],
   "source": [
    "model = Perceptron(input_dim, nb_class, learning_rate)\n",
    "\n",
    "training(model, 3, show_progress=True)\n",
    "\n",
    "test(model, print_accuracy=True)"
   ]
  },
  {
   "cell_type": "markdown",
   "metadata": {},
   "source": [
    "### Grid search"
   ]
  },
  {
   "cell_type": "code",
   "execution_count": 45,
   "metadata": {},
   "outputs": [],
   "source": [
    "def plotAccuracy(accuracies, learning_rates, nb_epochs, title=\"\"):\n",
    "    x_axis = range(1, nb_epochs+1)\n",
    "    for idx,lr in enumerate(learning_rates):\n",
    "        plt.plot(x_axis, accuracies[idx], label=f\"lr-{lr}\")\n",
    "    plt.legend(loc=2)\n",
    "    plt.xlabel('Pas de temps (epochs)')\n",
    "    plt.ylabel('Accuracy (%)')\n",
    "    plt.title(title)\n",
    "    plt.show()"
   ]
  },
  {
   "cell_type": "code",
   "execution_count": 64,
   "metadata": {},
   "outputs": [],
   "source": [
    "def grid_search(learning_rates, nb_epochs=10, show_progress=False, print_accuracy=False, initModel=Perceptron, initWeights=initWeightsDefault):\n",
    "    i = 0\n",
    "    accuracies = []\n",
    "    for lr in learning_rates:\n",
    "        #print(\"------------------\\nLearning rate :\", lr)\n",
    "        model = initModel(input_dim, nb_class, lr, initWeights=initWeightsDefault)\n",
    "        print(f\"Model {i} created\")\n",
    "        i+=1\n",
    "        accuracy = []\n",
    "\n",
    "        for k in range(1,nb_epochs+1):\n",
    "            training(model, 1, show_progress=show_progress)\n",
    "            #print(\"Epoch\", k, \": \", end='')\n",
    "            accu = test(model, print_accuracy=False, show_progress=show_progress)\n",
    "            accuracy.append(accu)\n",
    "        accuracies.append(accuracy)\n",
    "    return accuracies"
   ]
  },
  {
   "cell_type": "markdown",
   "metadata": {},
   "source": [
    "#### Fonctions d'initialisation des poids"
   ]
  },
  {
   "cell_type": "code",
   "execution_count": 37,
   "metadata": {},
   "outputs": [],
   "source": [
    "def initUniform(low=0, high=1):\n",
    "    return lambda input_dim, output_dim: np.random.uniform(low, high, size=(output_dim,input_dim+1))\n",
    "\n",
    "def initNormal(loc=0, scale=1):\n",
    "    return lambda input_dim, output_dim: np.random.normal(loc, scale, size=(output_dim,input_dim+1))"
   ]
  },
  {
   "cell_type": "code",
   "execution_count": 43,
   "metadata": {},
   "outputs": [],
   "source": [
    "learning_rates = (1e-3, 5e-3, 1e-2, 5e-2)"
   ]
  },
  {
   "cell_type": "code",
   "execution_count": 47,
   "metadata": {},
   "outputs": [
    {
     "data": {
      "image/png": "[encoded data removed]",
      "text/plain": [
       "<Figure size 432x288 with 1 Axes>"
      ]
     },
     "metadata": {
      "needs_background": "light"
     },
     "output_type": "display_data"
    }
   ],
   "source": [
    "nb_epochs = 2\n",
    "accuracies = grid_search(learning_rates, nb_epochs)\n",
    "plotAccuracy(accuracies, learning_rates, nb_epochs, title=\"Distribution des poids suivant loi N(0,1)\")"
   ]
  },
  {
   "cell_type": "code",
   "execution_count": 46,
   "metadata": {},
   "outputs": [
    {
     "data": {
      "image/png": "[encoded data removed]",
      "text/plain": [
       "<Figure size 432x288 with 1 Axes>"
      ]
     },
     "metadata": {
      "needs_background": "light"
     },
     "output_type": "display_data"
    }
   ],
   "source": [
    "nb_epochs = 2\n",
    "accuracies = grid_search(learning_rates, nb_epochs, initWeights=initUniform())\n",
    "plotAccuracy(accuracies, learning_rates, nb_epochs, title=\"Distribution des poids suivant loi U(0,1)\")"
   ]
  },
  {
   "cell_type": "markdown",
   "metadata": {},
   "source": [
    "## Partie 2 - Shallow Nerwork"
   ]
  },
  {
   "cell_type": "code",
   "execution_count": 48,
   "metadata": {},
   "outputs": [],
   "source": [
    "class MLP:\n",
    "    def __init__(self, input_dim, nb_neurons, output_dim, learning_rate, initWeights=initWeightsDefault):\n",
    "        self.hidden_layer = Perceptron(input_dim, nb_neurons, learning_rate, initWeights=initWeights)\n",
    "        self.output_layer = Perceptron(nb_neurons, output_dim, learning_rate, initWeights=initWeights)\n",
    "        self.hidden_output = None\n",
    "        self.nb_neurons = nb_neurons\n",
    "        self.output_dim = output_dim\n",
    "        self.input_dim = input_dim\n",
    "        self.learning_rate = learning_rate\n",
    "        \n",
    "    def forward(self, x):\n",
    "        hidden_layer_output = self.hidden_layer.forward(x)\n",
    "        self.hidden_output = 1/(1 + np.exp(-1*hidden_layer_output))\n",
    "        return self.output_layer.forward(self.hidden_output)\n",
    "    \n",
    "    def backward(self, x, y ,t):\n",
    "        output_error = np.array(t) - y\n",
    "        weights = self.output_layer.weights[:,:-1]\n",
    "        summ = output_error.dot(weights)\n",
    "        hidden_error_1 = (1-self.hidden_output)\n",
    "        hidden_error_2 = hidden_error_1 * self.hidden_output\n",
    "        hidden_error = hidden_error_2*summ\n",
    "        \n",
    "        self.output_layer.backward_w_error(self.hidden_output, output_error)\n",
    "        self.hidden_layer.backward_w_error(x, hidden_error)"
   ]
  },
  {
   "cell_type": "markdown",
   "metadata": {},
   "source": [
    "### Paramètres MLP"
   ]
  },
  {
   "cell_type": "code",
   "execution_count": 50,
   "metadata": {},
   "outputs": [],
   "source": [
    "input_dim = 784\n",
    "nb_class = 10\n",
    "\n",
    "learning_rate = 1e-2\n",
    "nb_neurons = 8"
   ]
  },
  {
   "cell_type": "markdown",
   "metadata": {},
   "source": [
    "### MLP - Test simple"
   ]
  },
  {
   "cell_type": "code",
   "execution_count": 51,
   "metadata": {},
   "outputs": [
    {
     "name": "stdout",
     "output_type": "stream",
     "text": [
      "Accuracy:  0.66\n"
     ]
    },
    {
     "data": {
      "text/plain": [
       "0.66"
      ]
     },
     "execution_count": 51,
     "metadata": {},
     "output_type": "execute_result"
    }
   ],
   "source": [
    "LOGGING = False\n",
    "model = MLP(input_dim, nb_neurons, nb_class, learning_rate)\n",
    "\n",
    "training(model, epochs=3)\n",
    "test(model, print_accuracy=True)"
   ]
  },
  {
   "cell_type": "markdown",
   "metadata": {},
   "source": [
    "### Grid search"
   ]
  },
  {
   "cell_type": "code",
   "execution_count": 54,
   "metadata": {},
   "outputs": [],
   "source": [
    "def initModelFunction(nb_neurons):\n",
    "    def initModel(input_dim, nb_class, lr, initWeights):\n",
    "        return MLP(input_dim, nb_neurons, nb_class, lr, initWeights=initWeights)\n",
    "    return initModel\n",
    "\n",
    "def MLP_grid_search(learning_rates, hidden_layer_sizes, nb_epochs=6, show_progress=False, initModelF=initModelFunction):\n",
    "    for size in hidden_layer_sizes:\n",
    "        print(\"==================\\nHidden layer size:\", size)\n",
    "        initModel = initModelF(size)\n",
    "        accuracies = grid_search(learning_rates, nb_epochs=nb_epochs, show_progress=show_progress, initModel=initModel)\n",
    "        plotAccuracy(accuracies, learning_rates, nb_epochs, title=f\"Distribution des poids suivant loi N(0,1)\\n{size} neurones cachés\")"
   ]
  },
  {
   "cell_type": "code",
   "execution_count": 65,
   "metadata": {},
   "outputs": [
    {
     "name": "stdout",
     "output_type": "stream",
     "text": [
      "==================\n",
      "Hidden layer size: 10\n",
      "Model 0 created\n",
      "Model 1 created\n",
      "Model 2 created\n",
      "Model 3 created\n"
     ]
    },
    {
     "ename": "NameError",
     "evalue": "python callback specified for underflow (in  multiply) but no function found.",
     "output_type": "error",
     "traceback": [
      "\u001b[1;31m---------------------------------------------------------------------------\u001b[0m",
      "\u001b[1;31mNameError\u001b[0m                                 Traceback (most recent call last)",
      "\u001b[1;32m<ipython-input-65-a3fc2b44ed9a>\u001b[0m in \u001b[0;36m<module>\u001b[1;34m\u001b[0m\n\u001b[0;32m      3\u001b[0m \u001b[1;31m# hidden_layer_sizes = (25, 32)\u001b[0m\u001b[1;33m\u001b[0m\u001b[1;33m\u001b[0m\u001b[1;33m\u001b[0m\u001b[0m\n\u001b[0;32m      4\u001b[0m \u001b[1;33m\u001b[0m\u001b[0m\n\u001b[1;32m----> 5\u001b[1;33m \u001b[0mMLP_grid_search\u001b[0m\u001b[1;33m(\u001b[0m\u001b[0mlr\u001b[0m\u001b[1;33m,\u001b[0m \u001b[0mhidden_layer_sizes\u001b[0m\u001b[1;33m,\u001b[0m \u001b[0mnb_epochs\u001b[0m\u001b[1;33m=\u001b[0m\u001b[1;36m3\u001b[0m\u001b[1;33m)\u001b[0m\u001b[1;33m\u001b[0m\u001b[1;33m\u001b[0m\u001b[0m\n\u001b[0m",
      "\u001b[1;32m<ipython-input-54-15fdeac61962>\u001b[0m in \u001b[0;36mMLP_grid_search\u001b[1;34m(learning_rates, hidden_layer_sizes, nb_epochs, show_progress, initModelF)\u001b[0m\n\u001b[0;32m      8\u001b[0m         \u001b[0mprint\u001b[0m\u001b[1;33m(\u001b[0m\u001b[1;34m\"==================\\nHidden layer size:\"\u001b[0m\u001b[1;33m,\u001b[0m \u001b[0msize\u001b[0m\u001b[1;33m)\u001b[0m\u001b[1;33m\u001b[0m\u001b[1;33m\u001b[0m\u001b[0m\n\u001b[0;32m      9\u001b[0m         \u001b[0minitModel\u001b[0m \u001b[1;33m=\u001b[0m \u001b[0minitModelF\u001b[0m\u001b[1;33m(\u001b[0m\u001b[0msize\u001b[0m\u001b[1;33m)\u001b[0m\u001b[1;33m\u001b[0m\u001b[1;33m\u001b[0m\u001b[0m\n\u001b[1;32m---> 10\u001b[1;33m         \u001b[0maccuracies\u001b[0m \u001b[1;33m=\u001b[0m \u001b[0mgrid_search\u001b[0m\u001b[1;33m(\u001b[0m\u001b[0mlearning_rates\u001b[0m\u001b[1;33m,\u001b[0m \u001b[0mnb_epochs\u001b[0m\u001b[1;33m=\u001b[0m\u001b[0mnb_epochs\u001b[0m\u001b[1;33m,\u001b[0m \u001b[0mshow_progress\u001b[0m\u001b[1;33m=\u001b[0m\u001b[0mshow_progress\u001b[0m\u001b[1;33m,\u001b[0m \u001b[0minitModel\u001b[0m\u001b[1;33m=\u001b[0m\u001b[0minitModel\u001b[0m\u001b[1;33m)\u001b[0m\u001b[1;33m\u001b[0m\u001b[1;33m\u001b[0m\u001b[0m\n\u001b[0m\u001b[0;32m     11\u001b[0m         \u001b[0mplotAccuracy\u001b[0m\u001b[1;33m(\u001b[0m\u001b[0maccuracies\u001b[0m\u001b[1;33m,\u001b[0m \u001b[0mlearning_rates\u001b[0m\u001b[1;33m,\u001b[0m \u001b[0mnb_epochs\u001b[0m\u001b[1;33m,\u001b[0m \u001b[0mtitle\u001b[0m\u001b[1;33m=\u001b[0m\u001b[1;34mf\"Distribution des poids suivant loi N(0,1)\\n{size} neurones cachés\"\u001b[0m\u001b[1;33m)\u001b[0m\u001b[1;33m\u001b[0m\u001b[1;33m\u001b[0m\u001b[0m\n",
      "\u001b[1;32m<ipython-input-64-36257fc975e4>\u001b[0m in \u001b[0;36mgrid_search\u001b[1;34m(learning_rates, nb_epochs, show_progress, print_accuracy, initModel, initWeights)\u001b[0m\n\u001b[0;32m     10\u001b[0m \u001b[1;33m\u001b[0m\u001b[0m\n\u001b[0;32m     11\u001b[0m         \u001b[1;32mfor\u001b[0m \u001b[0mk\u001b[0m \u001b[1;32min\u001b[0m \u001b[0mrange\u001b[0m\u001b[1;33m(\u001b[0m\u001b[1;36m1\u001b[0m\u001b[1;33m,\u001b[0m\u001b[0mnb_epochs\u001b[0m\u001b[1;33m+\u001b[0m\u001b[1;36m1\u001b[0m\u001b[1;33m)\u001b[0m\u001b[1;33m:\u001b[0m\u001b[1;33m\u001b[0m\u001b[1;33m\u001b[0m\u001b[0m\n\u001b[1;32m---> 12\u001b[1;33m             \u001b[0mtraining\u001b[0m\u001b[1;33m(\u001b[0m\u001b[0mmodel\u001b[0m\u001b[1;33m,\u001b[0m \u001b[1;36m1\u001b[0m\u001b[1;33m,\u001b[0m \u001b[0mshow_progress\u001b[0m\u001b[1;33m=\u001b[0m\u001b[0mshow_progress\u001b[0m\u001b[1;33m)\u001b[0m\u001b[1;33m\u001b[0m\u001b[1;33m\u001b[0m\u001b[0m\n\u001b[0m\u001b[0;32m     13\u001b[0m             \u001b[1;31m#print(\"Epoch\", k, \": \", end='')\u001b[0m\u001b[1;33m\u001b[0m\u001b[1;33m\u001b[0m\u001b[1;33m\u001b[0m\u001b[0m\n\u001b[0;32m     14\u001b[0m             \u001b[0maccu\u001b[0m \u001b[1;33m=\u001b[0m \u001b[0mtest\u001b[0m\u001b[1;33m(\u001b[0m\u001b[0mmodel\u001b[0m\u001b[1;33m,\u001b[0m \u001b[0mprint_accuracy\u001b[0m\u001b[1;33m=\u001b[0m\u001b[1;32mFalse\u001b[0m\u001b[1;33m,\u001b[0m \u001b[0mshow_progress\u001b[0m\u001b[1;33m=\u001b[0m\u001b[0mshow_progress\u001b[0m\u001b[1;33m)\u001b[0m\u001b[1;33m\u001b[0m\u001b[1;33m\u001b[0m\u001b[0m\n",
      "\u001b[1;32m<ipython-input-12-0c8d9d310096>\u001b[0m in \u001b[0;36mtraining\u001b[1;34m(model, epochs, show_progress)\u001b[0m\n\u001b[0;32m     11\u001b[0m                 \u001b[1;31m# on demande les prochaines données de la base\u001b[0m\u001b[1;33m\u001b[0m\u001b[1;33m\u001b[0m\u001b[1;33m\u001b[0m\u001b[0m\n\u001b[0;32m     12\u001b[0m                 \u001b[0my\u001b[0m \u001b[1;33m=\u001b[0m \u001b[0mmodel\u001b[0m\u001b[1;33m.\u001b[0m\u001b[0mforward\u001b[0m\u001b[1;33m(\u001b[0m\u001b[0mimage\u001b[0m\u001b[1;33m)\u001b[0m\u001b[1;33m\u001b[0m\u001b[1;33m\u001b[0m\u001b[0m\n\u001b[1;32m---> 13\u001b[1;33m                 \u001b[0mmodel\u001b[0m\u001b[1;33m.\u001b[0m\u001b[0mbackward\u001b[0m\u001b[1;33m(\u001b[0m\u001b[0mimage\u001b[0m\u001b[1;33m,\u001b[0m \u001b[0my\u001b[0m\u001b[1;33m,\u001b[0m \u001b[0mlabel\u001b[0m\u001b[1;33m)\u001b[0m\u001b[1;33m\u001b[0m\u001b[1;33m\u001b[0m\u001b[0m\n\u001b[0m",
      "\u001b[1;32m<ipython-input-48-80223d625d38>\u001b[0m in \u001b[0;36mbackward\u001b[1;34m(self, x, y, t)\u001b[0m\n\u001b[0;32m     22\u001b[0m         \u001b[0mhidden_error\u001b[0m \u001b[1;33m=\u001b[0m \u001b[0mhidden_error_2\u001b[0m\u001b[1;33m*\u001b[0m\u001b[0msumm\u001b[0m\u001b[1;33m\u001b[0m\u001b[1;33m\u001b[0m\u001b[0m\n\u001b[0;32m     23\u001b[0m \u001b[1;33m\u001b[0m\u001b[0m\n\u001b[1;32m---> 24\u001b[1;33m         \u001b[0mself\u001b[0m\u001b[1;33m.\u001b[0m\u001b[0moutput_layer\u001b[0m\u001b[1;33m.\u001b[0m\u001b[0mbackward_w_error\u001b[0m\u001b[1;33m(\u001b[0m\u001b[0mself\u001b[0m\u001b[1;33m.\u001b[0m\u001b[0mhidden_output\u001b[0m\u001b[1;33m,\u001b[0m \u001b[0moutput_error\u001b[0m\u001b[1;33m)\u001b[0m\u001b[1;33m\u001b[0m\u001b[1;33m\u001b[0m\u001b[0m\n\u001b[0m\u001b[0;32m     25\u001b[0m         \u001b[0mself\u001b[0m\u001b[1;33m.\u001b[0m\u001b[0mhidden_layer\u001b[0m\u001b[1;33m.\u001b[0m\u001b[0mbackward_w_error\u001b[0m\u001b[1;33m(\u001b[0m\u001b[0mx\u001b[0m\u001b[1;33m,\u001b[0m \u001b[0mhidden_error\u001b[0m\u001b[1;33m)\u001b[0m\u001b[1;33m\u001b[0m\u001b[1;33m\u001b[0m\u001b[0m\n",
      "\u001b[1;32m<ipython-input-36-0f0919602ded>\u001b[0m in \u001b[0;36mbackward_w_error\u001b[1;34m(self, x, error)\u001b[0m\n\u001b[0;32m     23\u001b[0m         \u001b[0mx\u001b[0m \u001b[1;33m=\u001b[0m \u001b[0mnp\u001b[0m\u001b[1;33m.\u001b[0m\u001b[0mappend\u001b[0m\u001b[1;33m(\u001b[0m\u001b[0mx\u001b[0m\u001b[1;33m,\u001b[0m \u001b[1;36m1\u001b[0m\u001b[1;33m)\u001b[0m\u001b[1;33m\u001b[0m\u001b[1;33m\u001b[0m\u001b[0m\n\u001b[0;32m     24\u001b[0m \u001b[1;33m\u001b[0m\u001b[0m\n\u001b[1;32m---> 25\u001b[1;33m         \u001b[0mdelta\u001b[0m \u001b[1;33m=\u001b[0m \u001b[0merror\u001b[0m\u001b[1;33m.\u001b[0m\u001b[0mreshape\u001b[0m\u001b[1;33m(\u001b[0m\u001b[0mself\u001b[0m\u001b[1;33m.\u001b[0m\u001b[0moutput_dim\u001b[0m\u001b[1;33m,\u001b[0m\u001b[1;36m1\u001b[0m\u001b[1;33m)\u001b[0m\u001b[1;33m.\u001b[0m\u001b[0mdot\u001b[0m\u001b[1;33m(\u001b[0m\u001b[0mx\u001b[0m\u001b[1;33m.\u001b[0m\u001b[0mreshape\u001b[0m\u001b[1;33m(\u001b[0m\u001b[1;36m1\u001b[0m\u001b[1;33m,\u001b[0m\u001b[0mself\u001b[0m\u001b[1;33m.\u001b[0m\u001b[0minput_dim\u001b[0m\u001b[1;33m+\u001b[0m\u001b[1;36m1\u001b[0m\u001b[1;33m)\u001b[0m\u001b[1;33m)\u001b[0m \u001b[1;33m*\u001b[0m \u001b[0mself\u001b[0m\u001b[1;33m.\u001b[0m\u001b[0mlearning_rate\u001b[0m\u001b[1;33m\u001b[0m\u001b[1;33m\u001b[0m\u001b[0m\n\u001b[0m\u001b[0;32m     26\u001b[0m \u001b[1;33m\u001b[0m\u001b[0m\n\u001b[0;32m     27\u001b[0m         \u001b[1;31m# Mise à jour des poids\u001b[0m\u001b[1;33m\u001b[0m\u001b[1;33m\u001b[0m\u001b[1;33m\u001b[0m\u001b[0m\n",
      "\u001b[1;31mNameError\u001b[0m: python callback specified for underflow (in  multiply) but no function found."
     ]
    }
   ],
   "source": [
    "lr = (1e-2, 0.05, 0.1, 0.5)\n",
    "hidden_layer_sizes = (10, 14)\n",
    "# hidden_layer_sizes = (25, 32)\n",
    "\n",
    "MLP_grid_search(lr, hidden_layer_sizes, nb_epochs=3)"
   ]
  },
  {
   "cell_type": "markdown",
   "metadata": {},
   "source": [
    "## Partie 3 - Deep Network"
   ]
  },
  {
   "cell_type": "code",
   "execution_count": null,
   "metadata": {},
   "outputs": [],
   "source": [
    "class TPerceptron:\n",
    "    def __init__(self, input_dim, output_dim, learning_rate):\n",
    "        self.weights = torch.randn(input_dim + 1, output_dim, requires_grad=True)\n",
    "        self.learning_rate = learning_rate\n",
    "        self.output_dim = output_dim\n",
    "        self.input_dim = input_dim\n",
    "\n",
    "    def forward(self, x):\n",
    "        # Return output\n",
    "        x = torch.from_numpy(np.append(x.flatten(),1))\n",
    "        return np.dot(self.weights, x)\n",
    "    \n",
    "    def backward(self, x, y ,t):\n",
    "        error = np.array(t) - y\n",
    "        self.backward_w_error(np.array(x).flatten(), error)\n",
    "\n",
    "    def backward_w_error(self, x, error):\n",
    "        # Rajoute le biais\n",
    "        x = torch.from_numpy(np.append(x, 1))\n",
    "        \n",
    "        delta = error.reshape(self.output_dim,1).dot(x.reshape(1,self.input_dim+1)) * self.learning_rate\n",
    "        \n",
    "        # Mise à jour des poids\n",
    "        self.weights += delta"
   ]
  },
  {
   "cell_type": "code",
   "execution_count": null,
   "metadata": {},
   "outputs": [],
   "source": []
  }
 ],
 "metadata": {
  "kernelspec": {
   "display_name": "Python 3",
   "language": "python",
   "name": "python3"
  },
  "language_info": {
   "codemirror_mode": {
    "name": "ipython",
    "version": 3
   },
   "file_extension": ".py",
   "mimetype": "text/x-python",
   "name": "python",
   "nbconvert_exporter": "python",
   "pygments_lexer": "ipython3",
   "version": "3.7.3"
  }
 },
 "nbformat": 4,
 "nbformat_minor": 4
}
