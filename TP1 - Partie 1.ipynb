{
 "cells": [
  {
   "cell_type": "markdown",
   "metadata": {},
   "source": [
    "Pierre-Elliott THIBOUD  \n",
    "Julien PERIER-CAMBY  \n",
    "\n",
    "# IBI - TP1\n",
    "## Partie 1"
   ]
  },
  {
   "cell_type": "code",
   "execution_count": 1,
   "metadata": {},
   "outputs": [],
   "source": [
    "import gzip # pour décompresser les données\n",
    "import pickle # pour désérialiser les données\n",
    "import numpy as np # pour pouvoir utiliser des matrices\n",
    "import matplotlib.pyplot as plt # pour l'affichage\n",
    "import torch,torch.utils.data\n",
    "from tqdm import tqdm_notebook as tqdm"
   ]
  },
  {
   "cell_type": "code",
   "execution_count": 2,
   "metadata": {},
   "outputs": [],
   "source": [
    "def affichage(image,label):\n",
    "    # on récupère à quel chiffre cela correspond (position du 1 dans label)\n",
    "    label = np.argmax(label)\n",
    "    # on crée une figure\n",
    "    plt.figure()\n",
    "    # affichage du chiffre\n",
    "    # le paramètre interpolation='nearest' force python à afficher chaque valeur de la matrice sans l'interpoler avec ses voisines\n",
    "    # le paramètre cmap définit l'échelle de couleur utilisée (ici noire et blanc)\n",
    "    plt.imshow(image.reshape((28,28)),interpolation='nearest',cmap='binary')\n",
    "    # on met un titre\n",
    "    plt.title('chiffre '+str(label))\n",
    "    # on affichage les figures créées\n",
    "    plt.show()"
   ]
  },
  {
   "cell_type": "markdown",
   "metadata": {},
   "source": [
    "### Chargement des données"
   ]
  },
  {
   "cell_type": "code",
   "execution_count": 3,
   "metadata": {},
   "outputs": [],
   "source": [
    "TRAIN_BATCH_SIZE = 1\n",
    "\n",
    "data = pickle.load(gzip.open('mnist.pkl.gz'),encoding='latin1')\n",
    "\n",
    "train_data = torch.Tensor(data[0][0])\n",
    "# labels de la base d'apprentissage\n",
    "train_data_label = torch.Tensor(data[0][1])\n",
    "# images de la base de test\n",
    "test_data = torch.Tensor(data[1][0])\n",
    "# labels de la base de test\n",
    "test_data_label = torch.Tensor(data[1][1])\n",
    "# on crée la base de données d'apprentissage (pour torch)\n",
    "train_dataset = torch.utils.data.TensorDataset(train_data,train_data_label)\n",
    "# on crée la base de données de test (pour torch)\n",
    "test_dataset = torch.utils.data.TensorDataset(test_data,test_data_label)\n",
    "# on crée le lecteur de la base de données d'apprentissage (pour torch)\n",
    "train_loader = torch.utils.data.DataLoader(train_dataset, batch_size=TRAIN_BATCH_SIZE, shuffle=True)\n",
    "# on crée le lecteur de la base de données de test (pour torch)\n",
    "test_loader = torch.utils.data.DataLoader(test_dataset, batch_size=1, shuffle=False)"
   ]
  },
  {
   "cell_type": "code",
   "execution_count": 4,
   "metadata": {},
   "outputs": [
    {
     "data": {
      "image/png": "[encoded data removed]",
      "text/plain": [
       "<Figure size 432x288 with 1 Axes>"
      ]
     },
     "metadata": {
      "needs_background": "light"
     },
     "output_type": "display_data"
    }
   ],
   "source": [
    "affichage(train_data[0], train_data_label[0])"
   ]
  },
  {
   "cell_type": "markdown",
   "metadata": {},
   "source": [
    "### Paramètres"
   ]
  },
  {
   "cell_type": "code",
   "execution_count": 13,
   "metadata": {},
   "outputs": [],
   "source": [
    "input_dim = 784\n",
    "nb_class = 10\n",
    "\n",
    "learning_rate = 1e-2"
   ]
  },
  {
   "cell_type": "code",
   "execution_count": 23,
   "metadata": {},
   "outputs": [],
   "source": [
    "class Perceptron:\n",
    "    def __init__(self, input_dim, output_dim, learning_rate):\n",
    "        self.weights = np.random.normal(loc=0.0,scale=1.0,size=(output_dim,input_dim+1))\n",
    "        self.learning_rate = learning_rate\n",
    "\n",
    "    def forward(self, x):\n",
    "        # Return output\n",
    "        x = np.append(x.flatten(),1)\n",
    "        return np.dot(self.weights, x)\n",
    "\n",
    "    def backward(self, x, y, t):\n",
    "        error = np.array(t) - y\n",
    "        # Rajoute le biais\n",
    "        x = np.append(np.array(x).flatten(), 1)\n",
    "        \n",
    "        delta = x.reshape(785,1).dot(error.reshape(1,10)) * self.learning_rate\n",
    "        \n",
    "        # Mise à jour des poids\n",
    "        self.weights += delta.T"
   ]
  },
  {
   "cell_type": "code",
   "execution_count": 24,
   "metadata": {
    "scrolled": false
   },
   "outputs": [],
   "source": [
    "model = Perceptron(input_dim, nb_class,; learning_rate)\n",
    "\n",
    "def training(model, epochs):\n",
    "    for epoch in range(epochs):\n",
    "        for (idx,(image,label)) in enumerate(train_loader):\n",
    "            # on demande les prochaines données de la base\n",
    "            y = model.forward(image)\n",
    "            model.backward(image, y, label)\n",
    "            \n",
    "training(model, 1)"
   ]
  },
  {
   "cell_type": "code",
   "execution_count": 25,
   "metadata": {},
   "outputs": [
    {
     "name": "stdout",
     "output_type": "stream",
     "text": [
      "Accuracy:  0.521\n"
     ]
    }
   ],
   "source": [
    "def test(model):\n",
    "    true_positives = 0\n",
    "    for (idx,(image,label)) in enumerate(test_loader):\n",
    "        if np.argmax(label.numpy()) == np.argmax(model.forward(image)):\n",
    "            true_positives += 1\n",
    "    print(\"Accuracy: \", true_positives/len(test_loader))\n",
    "    \n",
    "test(model)"
   ]
  },
  {
   "cell_type": "markdown",
   "metadata": {},
   "source": [
    "### Grid search"
   ]
  },
  {
   "cell_type": "code",
   "execution_count": 29,
   "metadata": {},
   "outputs": [
    {
     "name": "stdout",
     "output_type": "stream",
     "text": [
      "------------------\n",
      "Learning rate : 0.001\n",
      "Epoch 5 :Accuracy:  0.6071428571428571\n",
      "Epoch 10 :Accuracy:  0.7398571428571429\n",
      "Epoch 15 :Accuracy:  0.7882857142857143\n",
      "Epoch 20 :Accuracy:  0.8074285714285714\n",
      "Epoch 25 :Accuracy:  0.8171428571428572\n",
      "------------------\n",
      "Learning rate : 0.01\n",
      "Epoch 5 :Accuracy:  0.693\n",
      "Epoch 10 :Accuracy:  0.7001428571428572\n",
      "Epoch 15 :Accuracy:  0.6814285714285714\n",
      "Epoch 20 :Accuracy:  0.6928571428571428\n",
      "Epoch 25 :Accuracy:  0.6978571428571428\n",
      "------------------\n",
      "Learning rate : 0.1\n",
      "Epoch 5 :Accuracy:  0.09785714285714285\n",
      "Epoch 10 :Accuracy:  0.09785714285714285\n",
      "Epoch 15 :Accuracy:  0.09785714285714285\n",
      "Epoch 20 :Accuracy:  0.09785714285714285\n",
      "Epoch 25 :Accuracy:  0.09785714285714285\n"
     ]
    }
   ],
   "source": [
    "learning_rates = (1e-3, 1e-2, 0.1)\n",
    "\n",
    "for lr in learning_rates:\n",
    "    print(\"------------------\\nLearning rate :\", lr)\n",
    "    model = Perceptron(nb_class, input_dim, lr)\n",
    "    \n",
    "    for k in range(1,6):\n",
    "        training(model, 5)\n",
    "        print(\"Epoch\", k*5, \": \", end='')\n",
    "        test(model)\n",
    "    "
   ]
  },
  {
   "cell_type": "markdown",
   "metadata": {},
   "source": [
    "## Shallow Nerwork"
   ]
  },
  {
   "cell_type": "code",
   "execution_count": null,
   "metadata": {},
   "outputs": [],
   "source": [
    "class MLP:\n",
    "    def __init__(self, nb_class, input_dim, nb_neurons):\n",
    "        self.hidden_layer = Perceptron(input_dim, nb_neurons)\n",
    "        self.output_layer = Perceptron(nb_neurons, nb_class)\n",
    "        self.hidden_output = None\n",
    "        \n",
    "    def forward(self, x):\n",
    "        yi = self.hidden_layer.forward(x)\n",
    "        self.hidden_output = 1/(1 + np.exp(-np.sum(yi)))\n",
    "            \n",
    "        return self.output_layer.forward(self.hidden_output)\n",
    "    \n",
    "    def backward(self, x, y ,t):\n",
    "        output_error = np.array(t) - y\n",
    "        self.hidden_output*(1-self.hidden_output)*np.sum(self.output_layer.weights.dot())"
   ]
  }
 ],
 "metadata": {
  "kernelspec": {
   "display_name": "Python 3",
   "language": "python",
   "name": "python3"
  },
  "language_info": {
   "codemirror_mode": {
    "name": "ipython",
    "version": 3
   },
   "file_extension": ".py",
   "mimetype": "text/x-python",
   "name": "python",
   "nbconvert_exporter": "python",
   "pygments_lexer": "ipython3",
   "version": "3.7.4"
  }
 },
 "nbformat": 4,
 "nbformat_minor": 4
}
